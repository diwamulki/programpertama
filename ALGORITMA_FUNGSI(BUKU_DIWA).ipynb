{
  "cells": [
    {
      "cell_type": "code",
      "source": [
        "# membuat fungsi\n",
        "def salam():\n",
        "  print (\"hello, ini Diwa\")\n",
        "# pemanggilan fungsi\n",
        "salam()\n",
        "salam()\n",
        "salam()"
      ],
      "metadata": {
        "id": "kukFM8r-rT2j",
        "outputId": "dafe8a5a-bff3-4746-ec01-1d700572b489",
        "colab": {
          "base_uri": "https://localhost:8080/"
        }
      },
      "execution_count": null,
      "outputs": [
        {
          "output_type": "stream",
          "name": "stdout",
          "text": [
            "hello, ini Diwa\n",
            "hello, ini Diwa\n",
            "hello, ini Diwa\n"
          ]
        }
      ]
    },
    {
      "cell_type": "code",
      "source": [
        "def salam(ucapan):\n",
        "  print(ucapan)\n",
        "salam(\"anggun: waaaa,udah makan belom?\")\n",
        "salam(\"diwa: pake nanya!!!\")\n",
        "salam(\"anggun: mau di masakin ga?\")\n",
        "salam(\"diwa: boleh la adit nek kate e\")\n",
        "salam(\"adit: lah ku yang kene!!!\")"
      ],
      "metadata": {
        "id": "cAnzLm44rsSS",
        "outputId": "f1ac1783-2d8f-4306-9d8a-fead440d7455",
        "colab": {
          "base_uri": "https://localhost:8080/"
        }
      },
      "execution_count": 5,
      "outputs": [
        {
          "output_type": "stream",
          "name": "stdout",
          "text": [
            "anggun: waaaa,udah makan belom?\n",
            "diwa: pake nanya!!!\n",
            "anggun: mau di masakin ga?\n",
            "diwa: boleh la adit nek kate e\n",
            "adit: lah ku yang kene!!!\n"
          ]
        }
      ]
    },
    {
      "cell_type": "code",
      "source": [
        "def luas_segitiga(alas, tinggi):\n",
        "  luas = (alas * tinggi) / 2\n",
        "  print (\"luas segitiga: %f\" % luas)"
      ],
      "metadata": {
        "id": "xVqH52fysa43"
      },
      "execution_count": null,
      "outputs": []
    },
    {
      "cell_type": "code",
      "source": [
        "luas_segitiga(5, 6)"
      ],
      "metadata": {
        "id": "VMQDQN5vsglI",
        "outputId": "79dd7f03-cfb3-4fb9-d369-a10a7b15511b",
        "colab": {
          "base_uri": "https://localhost:8080/"
        }
      },
      "execution_count": null,
      "outputs": [
        {
          "output_type": "stream",
          "name": "stdout",
          "text": [
            "luas segitiga: 15.000000\n"
          ]
        }
      ]
    },
    {
      "cell_type": "code",
      "source": [
        "# membuat variabel global\n",
        "nama = \"belajar kode\"\n",
        "versi = \"1.0.0\"\n",
        "\n",
        "def help():\n",
        "  # ini variabel lokal\n",
        "  nama = \"programku\"\n",
        "  versi = \"1.0.1\"\n",
        "  # mengakses variabel lokal\n",
        "def help():\n",
        "  nama = \"programku\"\n",
        "  versi = \"1.0.1\"\n",
        "  print (\"nama: %s\" % nama)\n",
        "  print (\"nama: %s\" % versi)\n",
        "\n",
        "# mengakses varibel global\n",
        "print (\"nama: %s\" % nama)\n",
        "print (\"nama: %s\" % versi)\n",
        "\n",
        "# memanggil fungsi help()\n",
        "help()"
      ],
      "metadata": {
        "id": "VuuVSBVwsmPy",
        "outputId": "1ebc5498-ca88-4a51-e8fb-30476bd90764",
        "colab": {
          "base_uri": "https://localhost:8080/"
        }
      },
      "execution_count": null,
      "outputs": [
        {
          "output_type": "stream",
          "name": "stdout",
          "text": [
            "nama: belajar kode\n",
            "nama: 1.0.0\n",
            "nama: programku\n",
            "nama: 1.0.1\n"
          ]
        }
      ]
    },
    {
      "cell_type": "code",
      "source": [
        "# membuat variabel global\n",
        "nama = \"DIWA MULKI\"\n",
        "tgl_lhir = \"12-09-2004\"\n",
        "\n",
        "def biodata():\n",
        "  # ini variabel lokal\n",
        "  hobi = \"street basket\"\n",
        "  Jurusan = \"ILKOM\"\n",
        "  tmpt_tinggal = \"TEBRONG\"\n",
        "  # mengakses variabel lokal\n",
        "  # ini variabel lokal\n",
        "  print (\"hobi: %s\" % hobi)\n",
        "  print (\"Jurusan: %s\" % Jurusan)\n",
        "  print (\"tmpt_tinggal: %s\" % tmpt_tinggal)\n",
        "# mengakses varibel global\n",
        "print (\"nama: %s\" % nama)\n",
        "print (\"tgl_lhir: %s\" % tgl_lhir)\n",
        "\n",
        "# memanggil fungsi biodata()\n",
        "biodata()"
      ],
      "metadata": {
        "id": "Tg6Fawajt23p",
        "outputId": "e96d159b-e1b9-4578-a388-ae0a1bb33409",
        "colab": {
          "base_uri": "https://localhost:8080/"
        }
      },
      "execution_count": null,
      "outputs": [
        {
          "output_type": "stream",
          "name": "stdout",
          "text": [
            "nama: DIWA MULKI\n",
            "tgl_lhir: 12-09-2004\n",
            "hobi: street basket\n",
            "Jurusan: ILKOM\n",
            "tmpt_tinggal: TEBRONG\n"
          ]
        }
      ]
    },
    {
      "cell_type": "code",
      "source": [
        "# fungsi untuk menampilkan semua data\n",
        "def show():\n",
        "  if len(buku) <= 0:\n",
        "      print(\"BELUM ADA DATA\")\n",
        "  else:\n",
        "      for indeks in range(len(buku)):\n",
        "        print(\"[{}]] {}\" .format(indeks, buku[indeks]))"
      ],
      "metadata": {
        "id": "kaL-6WXywpM7"
      },
      "execution_count": null,
      "outputs": []
    },
    {
      "cell_type": "code",
      "source": [
        "def show():\n",
        "  if len(buku) <= 0:\n",
        "      print(\"BELUM ADA DATA\")\n",
        "  else:\n",
        "      for indeks in range(len(buku)):\n",
        "        print(\"[{}]] {}\" .format(indeks, buku[indeks]))"
      ],
      "metadata": {
        "id": "g2xYm4XExLY1"
      },
      "execution_count": null,
      "outputs": []
    },
    {
      "cell_type": "code",
      "source": [
        "def insert_data():\n",
        "  buku_baru = input(\"judul buku: \")\n",
        "  buku.append(buku_baru)"
      ],
      "metadata": {
        "id": "imzqybvNxNT0"
      },
      "execution_count": null,
      "outputs": []
    },
    {
      "cell_type": "code",
      "source": [
        "def edit_data():\n",
        "  show_data()\n",
        "  indeks = int(input(\"inputkan ID buku\"))\n",
        "  if indeks > len(buku):\n",
        "    print(\"ID salah\")\n",
        "  else:\n",
        "      judul_baru = input(\"judul baru: \")\n",
        "      buku[indeks] = judul_baru"
      ],
      "metadata": {
        "id": "SY2n70A3xT7Z"
      },
      "execution_count": null,
      "outputs": []
    },
    {
      "cell_type": "code",
      "source": [
        "def delete_data():\n",
        "  show_data()\n",
        "  indeks = int(input(\"inputkan ID buku\"))\n",
        "  if indeks > len(buku):\n",
        "    print(\"ID salah\")\n",
        "  else:\n",
        "      buku.remove(buku[indeks])"
      ],
      "metadata": {
        "id": "NWHPIp5CxYXW"
      },
      "execution_count": null,
      "outputs": []
    },
    {
      "cell_type": "code",
      "source": [
        "def show_menu():\n",
        "  print(\"\\n\")\n",
        "  print(\"---------- MENU ----------\")\n",
        "  print(\"[1] show data\")\n",
        "  print(\"[2] insert data\")\n",
        "  print(\"[3] edit data\")\n",
        "  print(\"[4] delete data\")\n",
        "  print(\"[5] exit\")\n",
        "\n",
        "  menu = input(\"PILIH MENU> \")\n",
        "  print(\"\\n\")"
      ],
      "metadata": {
        "id": "St5s_l2dxgVc"
      },
      "execution_count": null,
      "outputs": []
    },
    {
      "cell_type": "code",
      "source": [
        "buku = []\n",
        "def show_data():\n",
        "     if len(buku) <= 0:\n",
        "        print(\"BELUM ADA DATA\")\n",
        "     else:\n",
        "         for indeks in range(len(buku)):\n",
        "            print(\"[{}] {}\".format(indeks, buku [indeks]))\n",
        "\n",
        "def insert_data():\n",
        "    buku_baru = input(\"judul buku: \")\n",
        "    buku.append(buku_baru)\n",
        "\n",
        "def edit_data():\n",
        "    show_data\n",
        "    indeks = int(input(\"inputkan ID buku: \"))\n",
        "    if indeks > len(buku):\n",
        "      print(\"ID salah\")\n",
        "    else:\n",
        "        judul_baru = input(\"Judul baru: \")\n",
        "        buku[indeks] = judul_baru\n",
        "\n",
        "def delete_data():\n",
        "    show_data()\n",
        "    indeks = int(input(\"inputkan ida buku\"))\n",
        "    if indeks > len(buku):\n",
        "        print(\"id salah\")\n",
        "    else:\n",
        "        buku.remove(buku[indeks])\n",
        "\n",
        "def show_menu():\n",
        "    print(\"\\n\")\n",
        "    print(\"----------MENU----------\")\n",
        "    print(\"[1] show data\")\n",
        "    print(\"[2] insert data\")\n",
        "    print(\"[3] edit data\")\n",
        "    print(\"[4] delete data\")\n",
        "    print(\"[5] exit\")\n",
        "\n",
        "    menu = input(\"PILIH MENU\")\n",
        "    print(\"\\n\")\n",
        "\n",
        "    if int(menu) == 1:\n",
        "        show_data()\n",
        "    elif int(menu) == 2:\n",
        "        insert_data()\n",
        "    elif int(menu) == 3:\n",
        "        edit_data()\n",
        "    elif int(menu) == 4:\n",
        "        delete_data()\n",
        "    elif int(menu) == 5:\n",
        "        exit()\n",
        "    else:\n",
        "        print(\"salah pilih!\")\n",
        "if __name__ ==\"__main__\":\n",
        "      while True:\n",
        "        show_menu()"
      ],
      "metadata": {
        "id": "5r5syClSx_eh",
        "outputId": "eeb4ed7c-1e42-418e-bfac-da795583717c",
        "colab": {
          "base_uri": "https://localhost:8080/"
        }
      },
      "execution_count": null,
      "outputs": [
        {
          "output_type": "stream",
          "name": "stdout",
          "text": [
            "\n",
            "\n",
            "----------MENU----------\n",
            "[1] show data\n",
            "[2] insert data\n",
            "[3] edit data\n",
            "[4] delete data\n",
            "[5] exit\n",
            "PILIH MENU2\n",
            "\n",
            "\n",
            "judul buku: DIWA DAN TEMAN JOMOXNYA\n",
            "\n",
            "\n",
            "----------MENU----------\n",
            "[1] show data\n",
            "[2] insert data\n",
            "[3] edit data\n",
            "[4] delete data\n",
            "[5] exit\n",
            "PILIH MENU1\n",
            "\n",
            "\n",
            "[0] DIWA DAN TEMAN JOMOXNYA\n",
            "\n",
            "\n",
            "----------MENU----------\n",
            "[1] show data\n",
            "[2] insert data\n",
            "[3] edit data\n",
            "[4] delete data\n",
            "[5] exit\n",
            "PILIH MENU0\n",
            "\n",
            "\n",
            "salah pilih!\n",
            "\n",
            "\n",
            "----------MENU----------\n",
            "[1] show data\n",
            "[2] insert data\n",
            "[3] edit data\n",
            "[4] delete data\n",
            "[5] exit\n",
            "PILIH MENU3\n",
            "\n",
            "\n",
            "inputkan ID buku: 0\n",
            "Judul baru: DIANDA YANG SANGAT SANGAT JOMOX\n",
            "\n",
            "\n",
            "----------MENU----------\n",
            "[1] show data\n",
            "[2] insert data\n",
            "[3] edit data\n",
            "[4] delete data\n",
            "[5] exit\n",
            "PILIH MENU4\n",
            "\n",
            "\n",
            "[0] DIANDA YANG SANGAT SANGAT JOMOX\n",
            "inputkan ida buku0\n",
            "\n",
            "\n",
            "----------MENU----------\n",
            "[1] show data\n",
            "[2] insert data\n",
            "[3] edit data\n",
            "[4] delete data\n",
            "[5] exit\n",
            "PILIH MENU2\n",
            "\n",
            "\n",
            "judul buku: DIANDA JOMOX MENGUBAH SEGALANYA\n",
            "\n",
            "\n",
            "----------MENU----------\n",
            "[1] show data\n",
            "[2] insert data\n",
            "[3] edit data\n",
            "[4] delete data\n",
            "[5] exit\n",
            "PILIH MENU1\n",
            "\n",
            "\n",
            "[0] DIANDA JOMOX MENGUBAH SEGALANYA\n",
            "\n",
            "\n",
            "----------MENU----------\n",
            "[1] show data\n",
            "[2] insert data\n",
            "[3] edit data\n",
            "[4] delete data\n",
            "[5] exit\n"
          ]
        }
      ]
    }
  ],
  "metadata": {
    "colab": {
      "toc_visible": true,
      "provenance": []
    },
    "kernelspec": {
      "display_name": "Python 3",
      "name": "python3"
    }
  },
  "nbformat": 4,
  "nbformat_minor": 0
}